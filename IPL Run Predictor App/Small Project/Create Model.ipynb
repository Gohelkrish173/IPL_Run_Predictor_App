{
 "cells": [
  {
   "cell_type": "code",
   "execution_count": 4,
   "id": "43aef244",
   "metadata": {},
   "outputs": [
    {
     "data": {
      "text/plain": [
       "['le_ball.pkl']"
      ]
     },
     "execution_count": 4,
     "metadata": {},
     "output_type": "execute_result"
    }
   ],
   "source": [
    "import pandas as pd\n",
    "from sklearn.model_selection import train_test_split\n",
    "from sklearn.preprocessing import LabelEncoder\n",
    "from sklearn.ensemble import RandomForestClassifier\n",
    "import joblib\n",
    "\n",
    "df = pd.read_csv('deliveries.csv')\n",
    "df\n",
    "\n",
    "df = df[['batter', 'bowler','over','ball','inning', 'batting_team', 'bowling_team', 'batsman_runs','is_wicket']]\n",
    "\n",
    "le_batter = LabelEncoder()\n",
    "le_bowler = LabelEncoder()\n",
    "le_batting_team = LabelEncoder()\n",
    "le_bowling_team = LabelEncoder()\n",
    "le_over = LabelEncoder()\n",
    "le_inning = LabelEncoder()\n",
    "le_ball = LabelEncoder()\n",
    "\n",
    "\n",
    "df['batter'] = le_batter.fit_transform(df['batter'])\n",
    "df['bowler'] = le_bowler.fit_transform(df['bowler'])\n",
    "df['batting_team'] = le_batting_team.fit_transform(df['batting_team'])\n",
    "df['bowling_team'] = le_bowling_team.fit_transform(df['bowling_team'])\n",
    "df['over'] = le_over.fit_transform(df['over'])\n",
    "df['inning'] = le_inning.fit_transform(df['inning'])\n",
    "df['ball'] = le_ball.fit_transform(df['ball'])\n",
    "\n",
    "X = df[['batter', 'bowler', 'batting_team', 'bowling_team','over','inning','ball']]  # Add more features if necessary\n",
    "y = df['batsman_runs']\n",
    "# z = df['is_wicket']# Or 'extras' or 'wickets'\n",
    "\n",
    "X_train, X_test, y_train, y_test = train_test_split(X, y, test_size=0.2, random_state=42)\n",
    "# X_train, X_test, z_train, z_test = train_test_split(X, z, test_size=0.2, random_state=42)\n",
    "\n",
    "model = RandomForestClassifier()\n",
    "model.fit(X_train, y_train)\n",
    "# model.fit(X_train, z_train)\n",
    "\n",
    "joblib.dump(model, 'ipl_delivery_model.pkl')\n",
    "\n",
    "joblib.dump(le_batter, 'le_batter.pkl')\n",
    "joblib.dump(le_bowler, 'le_bowler.pkl')\n",
    "joblib.dump(le_batting_team, 'le_batting_team.pkl')\n",
    "joblib.dump(le_bowling_team, 'le_bowling_team.pkl')\n",
    "joblib.dump(le_over, 'le_over.pkl')\n",
    "joblib.dump(le_inning, 'le_inning.pkl')\n",
    "joblib.dump(le_ball, 'le_ball.pkl')"
   ]
  },
  {
   "cell_type": "code",
   "execution_count": null,
   "id": "14eacb01",
   "metadata": {},
   "outputs": [],
   "source": []
  }
 ],
 "metadata": {
  "kernelspec": {
   "display_name": "Python 3 (ipykernel)",
   "language": "python",
   "name": "python3"
  },
  "language_info": {
   "codemirror_mode": {
    "name": "ipython",
    "version": 3
   },
   "file_extension": ".py",
   "mimetype": "text/x-python",
   "name": "python",
   "nbconvert_exporter": "python",
   "pygments_lexer": "ipython3",
   "version": "3.11.5"
  }
 },
 "nbformat": 4,
 "nbformat_minor": 5
}
